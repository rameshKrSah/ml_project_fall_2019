{
 "cells": [
  {
   "cell_type": "markdown",
   "metadata": {},
   "source": [
    "# Feature Visualization of Human Activity Recognition Systems"
   ]
  },
  {
   "cell_type": "code",
   "execution_count": 1,
   "metadata": {},
   "outputs": [],
   "source": [
    "%load_ext autoreload\n",
    "%autoreload 2\n",
    "%matplotlib inline"
   ]
  },
  {
   "cell_type": "code",
   "execution_count": 2,
   "metadata": {},
   "outputs": [],
   "source": [
    "import os\n",
    "import math\n",
    "import numpy as np\n",
    "import scipy.io as sio\n",
    "import pickle\n",
    "import pandas as pd\n",
    "import matplotlib.pyplot as plt\n",
    "import seaborn as sns"
   ]
  },
  {
   "cell_type": "markdown",
   "metadata": {},
   "source": [
    "# mHealth Dataset\n",
    "1) Experimental Setup\n",
    "\n",
    "The collected dataset comprises body motion and vital signs recordings for ten volunteers of diverse profile while performing 12 physical activities (Table 1). \n",
    "Shimmer2 [BUR10] wearable sensors were used for the recordings. The sensors were respectively placed on the subject's chest, right wrist and left ankle and \n",
    "attached by using elastic straps (as shown in the figure in attachment). The use of multiple sensors permits us to measure the motion experienced by diverse body parts, \n",
    "namely, the acceleration, the rate of turn and the magnetic field orientation, thus better capturing the body dynamics. The sensor positioned\n",
    "on the chest also provides 2-lead ECG measurements which are not used for the development of the recognition model but rather collected for future work purposes.\n",
    "This information can be used, for example, for basic heart monitoring, checking for various arrhythmias or looking at the effects of exercise on the ECG. \n",
    "All sensing modalities are recorded at a sampling rate of 50 Hz, which is considered sufficient for capturing human activity. Each session was recorded using a video camera.\n",
    "This dataset is found to generalize to common activities of the daily living, given the diversity of body parts involved in each one (e.g., frontal elevation of arms vs.\n",
    "knees bending), the intensity of the actions (e.g., cycling vs. sitting and relaxing) and their execution speed or dynamicity (e.g., running vs. standing still). The activities\n",
    "were collected in an out-of-lab environment with no constraints on the way these must be executed, with the exception that the subject should try their best when executing them.\n",
    "\n",
    "2) Activity set\n",
    "\n",
    "The activity set is listed in the following:\n",
    "\n",
    "- L1: Standing still (1 min) \n",
    "- L2: Sitting and relaxing (1 min) \n",
    "- L3: Lying down (1 min) \n",
    "- L4: Walking (1 min) \n",
    "- L5: Climbing stairs (1 min) \n",
    "- L6: Waist bends forward (20x) \n",
    "- L7: Frontal elevation of arms (20x)\n",
    "- L8: Knees bending (crouching) (20x)\n",
    "- L9: Cycling (1 min)\n",
    "- L10: Jogging (1 min)\n",
    "- L11: Running (1 min)\n",
    "- L12: Jump front & back (20x)\n",
    "\n",
    "NOTE: In brackets are the number of repetitions (Nx) or the duration of the exercises (min).\n",
    "\n",
    "3) Dataset files\n",
    "The data collected for each subject is stored in a different log file: 'mHealth_subject<SUBJECT_ID>.log'.\n",
    "Each file contains the samples (by rows) recorded for all sensors (by columns).\n",
    "The labels used to identify the activities are similar to the ones presented in Section 2 (e.g., the label for walking is '4').\n",
    "The meaning of each column is detailed next:\n",
    "\n",
    "- Column 1: acceleration from the chest sensor (X axis)\n",
    "- Column 2: acceleration from the chest sensor (Y axis)\n",
    "- Column 3: acceleration from the chest sensor (Z axis)\n",
    "- Column 4: electrocardiogram signal (lead 1) \n",
    "- Column 5: electrocardiogram signal (lead 2)\n",
    "- Column 6: acceleration from the left-ankle sensor (X axis)\n",
    "- Column 7: acceleration from the left-ankle sensor (Y axis)\n",
    "- Column 8: acceleration from the left-ankle sensor (Z axis)\n",
    "- Column 9: gyro from the left-ankle sensor (X axis)\n",
    "- Column 10: gyro from the left-ankle sensor (Y axis)\n",
    "- Column 11: gyro from the left-ankle sensor (Z axis)\n",
    "- Column 13: magnetometer from the left-ankle sensor (X axis)\n",
    "- Column 13: magnetometer from the left-ankle sensor (Y axis)\n",
    "- Column 14: magnetometer from the left-ankle sensor (Z axis)\n",
    "- Column 15: acceleration from the right-lower-arm sensor (X axis)\n",
    "- Column 16: acceleration from the right-lower-arm sensor (Y axis)\n",
    "- Column 17: acceleration from the right-lower-arm sensor (Z axis)\n",
    "- Column 18: gyro from the right-lower-arm sensor (X axis)\n",
    "- Column 19: gyro from the right-lower-arm sensor (Y axis)\n",
    "- Column 20: gyro from the right-lower-arm sensor (Z axis)\n",
    "- Column 21: magnetometer from the right-lower-arm sensor (X axis)\n",
    "- Column 22: magnetometer from the right-lower-arm sensor (Y axis)\n",
    "- Column 23: magnetometer from the right-lower-arm sensor (Z axis)\n",
    "- Column 24: Label (0 for the null class)\n",
    "\n",
    "*Units: Acceleration (m/s^2), gyroscope (deg/s), magnetic field (local), ecg (mV)c\n",
    "\n"
   ]
  },
  {
   "cell_type": "code",
   "execution_count": 3,
   "metadata": {},
   "outputs": [],
   "source": [
    "# We have sensor reading along the 23 columns but we just want the sensor reading of acceleration from the right-lower-arm\n",
    "# Those are in the columns 14 (x), 15(y), and 16 (z). we also hava acceleration from chest sensor in columns 0, 1, and 2, \n",
    "# and acceleration from left-ankle sensor in columns 5, 6, and 7. Also, the label is in column 23\n",
    "mhealth_chest_location = [0, 1, 2, 23]\n",
    "mhealth_left_ankle_location = [5, 6, 7, 23]\n",
    "mhealth_right_wrist_location = [14, 15, 16, 23]"
   ]
  },
  {
   "cell_type": "code",
   "execution_count": 4,
   "metadata": {},
   "outputs": [],
   "source": [
    "mhealth_folder = \"data/MHEALTHDATASET/\""
   ]
  },
  {
   "cell_type": "code",
   "execution_count": 5,
   "metadata": {},
   "outputs": [],
   "source": [
    "# Now the name of the activities\n",
    "mhealth_activities = ['Standing',\n",
    "                     'Sitting',\n",
    "                     'Lying',\n",
    "                     'Walking',\n",
    "                     'Climbing Stairs',\n",
    "                     'Waist Bend Forward',\n",
    "                     'Frontal Elevation Arms',\n",
    "                     'Knees Bending',\n",
    "                     'Cycling',\n",
    "                     'Jogging',\n",
    "                     'Running',\n",
    "                     'Jump Front & Back']"
   ]
  },
  {
   "cell_type": "code",
   "execution_count": 6,
   "metadata": {},
   "outputs": [],
   "source": [
    "# read one subject data given subject id and sensor body position\n",
    "def mhealth_read_one_subject(subject_id, body_position):\n",
    "    filename = mhealth_folder + \"mHealth_subject\" + str(subject_id) + \".log\"\n",
    "    \n",
    "    # Read the file\n",
    "    df = pd.read_csv(filename, delim_whitespace = True, header = None)\n",
    "    \n",
    "    # Only keep the rows with defined class value\n",
    "    df = df[df[23] != 0]\n",
    "    \n",
    "    df = df[body_position] #cannot leave the label out\n",
    "    return df"
   ]
  },
  {
   "cell_type": "code",
   "execution_count": 7,
   "metadata": {},
   "outputs": [],
   "source": [
    "# Windowing function \n",
    "def mhealth_windowing(data, window_length = 151, overlap_percent = 0.25):\n",
    "    n_channels = data.shape[1]\n",
    "    n_channels =  n_channels - 1    # since we also have the class labels\n",
    "    \n",
    "    # group the samples based on the class labels in column 23\n",
    "    groups = data.groupby(23)\n",
    "    \n",
    "    # placeholders to save the data\n",
    "    X_ = []\n",
    "    Y_ = []\n",
    "    \n",
    "    # now loop over the groups and extract the windows with 50% overlap\n",
    "    for gr in range(1, len(groups) + 1, 1):\n",
    "        # get the data for that group \n",
    "        df_ = groups.get_group(gr)\n",
    "        \n",
    "        # Data and labels\n",
    "        y = pd.unique(df_[23].values)\n",
    "        x = df_.drop(23, axis=1).values\n",
    "        \n",
    "        # now windowing\n",
    "        n_samples = len(x)\n",
    "        \n",
    "        # the number of window segments we will have without overlap\n",
    "        n_blocks = n_samples // window_length\n",
    "        n_upto = n_blocks * window_length\n",
    "        \n",
    "        # windowing with overlap_percent % overlap\n",
    "        tp = []\n",
    "        n_start = 0\n",
    "        n_end = n_start + window_length\n",
    "        overlap_length = int(overlap_percent * window_length)\n",
    "        \n",
    "        while n_end < n_samples:\n",
    "            tp.append(x[n_start:n_end])\n",
    "            n_start = n_end - overlap_length\n",
    "            n_end = n_start + window_length\n",
    "        \n",
    "        # save the data\n",
    "        X_.append(tp)\n",
    "        Y_.append(np.array([y] * len(tp), dtype=int).squeeze())\n",
    "        \n",
    "    \n",
    "    # Concatenate and return the data\n",
    "    X = np.concatenate(X_, axis=0)\n",
    "    Y = np.concatenate(Y_, axis=0)\n",
    "    \n",
    "    return X, Y"
   ]
  },
  {
   "cell_type": "code",
   "execution_count": 8,
   "metadata": {},
   "outputs": [],
   "source": [
    "# extract and merge all the subjects data into one file\n",
    "def mhealth_merge_all(window_length, overlap_percent):\n",
    "    body_position = mhealth_chest_location\n",
    "    X_ = []\n",
    "    Y_ = []\n",
    "    \n",
    "    total_subject = 10 + 1\n",
    "        \n",
    "    for s in range(1, total_subject, 1):\n",
    "        # read the current subject data\n",
    "        df = mhealth_read_one_subject(s, body_position)\n",
    "\n",
    "        # Apply the windowing to the data\n",
    "        s_x, s_y = mhealth_windowing(df, window_length, overlap_percent)\n",
    "\n",
    "        # add to the list\n",
    "        X_.append(s_x)\n",
    "        Y_.append(s_y)\n",
    "        \n",
    "    # concatenate and save all\n",
    "    X = np.concatenate(X_, axis=0)\n",
    "    Y = np.concatenate(Y_, axis=0)\n",
    "    \n",
    "    return X, Y"
   ]
  },
  {
   "cell_type": "code",
   "execution_count": 9,
   "metadata": {},
   "outputs": [],
   "source": [
    "def combine_components(df, window_length):\n",
    "    \n",
    "    n_samples = df.shape[0]\n",
    "    X = np.zeros((n_samples, window_length * 3))\n",
    "\n",
    "    for i in range(n_samples):\n",
    "        # get the window data at position i\n",
    "        dp = df[i]\n",
    "\n",
    "        # placeholders to store the x, y, and z component of the window data\n",
    "        x = []\n",
    "        y = []\n",
    "        z = []\n",
    "        for q in dp:\n",
    "            x.append(q[0])\n",
    "            y.append(q[1])\n",
    "            z.append(q[2])\n",
    "\n",
    "        # save the x, y, and z as a single array\n",
    "        X[i] = np.concatenate((x, y, z))\n",
    "        \n",
    "    return X"
   ]
  },
  {
   "cell_type": "code",
   "execution_count": 10,
   "metadata": {},
   "outputs": [],
   "source": [
    "n_window_length = 128\n",
    "overlap = 0.5\n",
    "\n",
    "m_X, m_Y = mhealth_merge_all(n_window_length, overlap)\n",
    "m_health_data = combine_components(m_X, n_window_length)\n",
    "m_Y = np.array(m_Y) - 1\n",
    "\n",
    "df_colnames = []\n",
    "for i in range(n_window_length):\n",
    "    df_colnames.append('ACC-X-'+str(i))\n",
    "\n",
    "for i in range(n_window_length):\n",
    "    df_colnames.append('ACC-Y-'+str(i))\n",
    "\n",
    "for i in range(n_window_length):\n",
    "    df_colnames.append('ACC-Z-'+str(i))\n",
    "\n",
    "mhealth_df = pd.DataFrame(m_health_data, columns=df_colnames)\n",
    "mhealth_df['Class'] = m_Y\n",
    "file = open('results/mhealth_window_size_' + str(n_window_length) + '.pickle', 'wb')\n",
    "pickle.dump([mhealth_df, mhealth_activities], file)\n",
    "file.close()"
   ]
  },
  {
   "cell_type": "code",
   "execution_count": 11,
   "metadata": {},
   "outputs": [],
   "source": [
    "file = open('results/mhealth_window_size_' + str(n_window_length) + '.pickle', 'rb')\n",
    "mhealth_df, _ = pickle.load(file)\n",
    "file.close()"
   ]
  },
  {
   "cell_type": "code",
   "execution_count": 12,
   "metadata": {},
   "outputs": [
    {
     "data": {
      "image/png": "[encoded data removed]",
      "text/plain": [
       "<Figure size 432x288 with 1 Axes>"
      ]
     },
     "metadata": {
      "needs_background": "light"
     },
     "output_type": "display_data"
    }
   ],
   "source": [
    "ax = sns.countplot(data = mhealth_df, y = 'Class')\n",
    "ax.set_yticklabels(mhealth_activities)\n",
    "ax.grid()"
   ]
  },
  {
   "cell_type": "code",
   "execution_count": null,
   "metadata": {},
   "outputs": [],
   "source": []
  }
 ],
 "metadata": {
  "kernelspec": {
   "display_name": "Python 3",
   "language": "python",
   "name": "python3"
  },
  "language_info": {
   "codemirror_mode": {
    "name": "ipython",
    "version": 3
   },
   "file_extension": ".py",
   "mimetype": "text/x-python",
   "name": "python",
   "nbconvert_exporter": "python",
   "pygments_lexer": "ipython3",
   "version": "3.6.8"
  }
 },
 "nbformat": 4,
 "nbformat_minor": 2
}
